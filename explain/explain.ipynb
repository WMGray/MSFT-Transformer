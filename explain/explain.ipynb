{
 "cells": [
  {
   "cell_type": "code",
   "id": "initial_id",
   "metadata": {
    "ExecuteTime": {
     "end_time": "2025-04-04T07:15:09.347523Z",
     "start_time": "2025-04-04T07:15:05.090453Z"
    }
   },
   "source": [
    "from collections import OrderedDict\n",
    "import os\n",
    "\n",
    "from matplotlib import pyplot as plt\n",
    "\n",
    "os.environ['CUDA_VISIBLE_DEVICES'] = '3'\n",
    "import os\n",
    "import yaml\n",
    "import pandas as pd\n",
    "import torch\n",
    "import shap\n",
    "from evaluate import get_trained_model\n",
    "from utils import *\n",
    "from dateset import load_full_features"
   ],
   "outputs": [],
   "execution_count": 1
  },
  {
   "cell_type": "markdown",
   "id": "2e9b792d-3745-4b06-bace-16114cb03f60",
   "metadata": {},
   "source": [
    "### 生成平均重要分数"
   ]
  },
  {
   "cell_type": "code",
   "execution_count": 2,
   "id": "6f024d865e82737",
   "metadata": {},
   "outputs": [],
   "source": [
    "for disease in [\"EW-T2D\", \"LC\", \"C-T2D\", \"IBD\", \"Obesity\"]:\n",
    "    dfs = []\n",
    "    for seed in [392, 412, 432, 452, 472]:\n",
    "        path = f\"/hdd/wmh/MSFT-Transfromer/explain/{disease}/MTMFTransformer/{seed}.csv\"\n",
    "        dfs.append(pd.read_csv(path))\n",
    "    numpy_arrays = [df.to_numpy() for df in dfs]\n",
    "    sum_array = np.sum(numpy_arrays, axis=0)\n",
    "\n",
    "    # 检查\n",
    "    for sid in range(dfs[0].shape[0]):\n",
    "        for featid in range(dfs[0].shape[1]):\n",
    "            sum = 0\n",
    "            for i in range(5):\n",
    "                sum += numpy_arrays[i][sid][featid]\n",
    "            if sum != sum_array[sid][featid]:\n",
    "                assert 0\n",
    "                \n",
    "    df = pd.DataFrame(sum_array)\n",
    "    path = f\"/hdd/wmh/MSFT-Transfromer/explain/{disease}/MTMFTransformer/overall.csv\"\n",
    "    df.to_csv(path, index=False)"
   ]
  },
  {
   "cell_type": "markdown",
   "id": "7d16ca9c-85e2-4f89-aaaf-3ac64ed1a42f",
   "metadata": {},
   "source": [
    "### 根据重要听得分绘制图像"
   ]
  },
  {
   "cell_type": "code",
   "execution_count": null,
   "id": "03e8ca8e-d32b-4c22-b596-aecfc6922a84",
   "metadata": {},
   "outputs": [],
   "source": [
    "for disease in [\"EW-T2D\", \"LC\", \"C-T2D\", \"IBD\", \"Obesity\"]:\n",
    "    ko_feat = list(pd.read_csv(f\"/hdd/wmh/MSFT-Transfromer/Data/{disease}/ko_abundance.csv\").columns)[2:]\n",
    "    species_feat = list(pd.read_csv(f\"/hdd/wmh/MSFT-Transfromer/Data/{disease}/species_abundance.csv\").columns)[2:]\n",
    "    feat_names = ko_feat + species_feat\n",
    "    # 去除过长featname\n",
    "    feat_names = [x if len(x) < 20 else x[x.rfind('|') + 1:] for x in feat_names]\n",
    "\n",
    "    # 读取重要性得分\n",
    "    shap_values = pd.read_csv(f\"/hdd/wmh/MSFT-Transfromer/explain/{disease}/MTMFTransformer/overall.csv\").values\n",
    "\n",
    "    # 绘制图像\n",
    "    shap.summary_plot(shap_values, x_test, feature_names=feat_names, rng=np.random.default_rng(), show=False)\n",
    "    plt.savefig(f\"/hdd/wmh/MSFT-Transfromer/explain/{disease}/MTMFTransformer/overall.png\", dpi=720)"
   ]
  },
  {
   "cell_type": "code",
   "execution_count": null,
   "id": "b446381e-67bf-4653-a586-cefefaed9b7a",
   "metadata": {},
   "outputs": [],
   "source": []
  },
  {
   "cell_type": "markdown",
   "id": "eaccad01-aa09-4ae9-bf58-e998b25cb960",
   "metadata": {},
   "source": [
    "### 提取重要性得分比较高的特征"
   ]
  },
  {
   "cell_type": "code",
   "execution_count": 38,
   "id": "b0f0c613-1f54-4b89-9bbd-e67a47bc361f",
   "metadata": {},
   "outputs": [],
   "source": [
    "for disease in [\"EW-T2D\", \"LC\", \"C-T2D\", \"IBD\", \"Obesity\"]:\n",
    "    shap_values = pd.read_csv(f\"/hdd/wmh/MSFT-Transfromer/explain/{disease}/MTMFTransformer/overall.csv\").values\n",
    "    shap_values = np.sum(np.abs(shap_values), axis=0)\n",
    "    ko_feat = list(pd.read_csv(f\"/hdd/wmh/MSFT-Transfromer/Data/{disease}/ko_abundance.csv\").columns)[2:]\n",
    "    species_feat = list(pd.read_csv(f\"/hdd/wmh/MSFT-Transfromer/Data/{disease}/species_abundance.csv\").columns)[2:]\n",
    "    feat_names = ko_feat + species_feat\n",
    "    # 去除过长featname\n",
    "    # feat_names = [x if len(x) < 20 else x[x.rfind('|') + 1:] for x in feat_names]\n",
    "\n",
    "    faet_importance = {k: v for (k, v) in zip(feat_names, shap_values)}\n",
    "\n",
    "    # 使用 sorted 根据字典的值进行降序排序\n",
    "    sorted_dict = dict(sorted(faet_importance.items(), key=lambda item: item[1], reverse=True))\n",
    "\n",
    "    df = pd.DataFrame(list(sorted_dict.items()), columns=['feat', 'importance'])\n",
    "    df.to_csv(f\"/hdd/wmh/MSFT-Transfromer/explain/{disease}/MTMFTransformer/feat_importance.csv\", index=False)"
   ]
  },
  {
   "cell_type": "code",
   "execution_count": null,
   "id": "48f6e5d4-505e-49b7-b768-f0081cdeb8fd",
   "metadata": {},
   "outputs": [],
   "source": []
  },
  {
   "cell_type": "code",
   "execution_count": 26,
   "id": "828536e0-33bf-40b5-8f58-e6ff229dfa2c",
   "metadata": {},
   "outputs": [
    {
     "data": {
      "text/plain": [
       "(1584,)"
      ]
     },
     "execution_count": 26,
     "metadata": {},
     "output_type": "execute_result"
    }
   ],
   "source": [
    "shap_values.shape"
   ]
  },
  {
   "cell_type": "code",
   "execution_count": 27,
   "id": "eaebcf88-d55a-4094-ba82-e0095d25eb79",
   "metadata": {},
   "outputs": [],
   "source": []
  }
 ],
 "metadata": {
  "kernelspec": {
   "display_name": "Python 3 (ipykernel)",
   "language": "python",
   "name": "python3"
  },
  "language_info": {
   "codemirror_mode": {
    "name": "ipython",
    "version": 3
   },
   "file_extension": ".py",
   "mimetype": "text/x-python",
   "name": "python",
   "nbconvert_exporter": "python",
   "pygments_lexer": "ipython3",
   "version": "3.10.15"
  }
 },
 "nbformat": 4,
 "nbformat_minor": 5
}
